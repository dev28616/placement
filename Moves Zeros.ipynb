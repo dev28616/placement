{
 "cells": [
  {
   "cell_type": "code",
   "execution_count": 2,
   "id": "da347108-6606-4f5c-b4bd-1e359f56f645",
   "metadata": {},
   "outputs": [
    {
     "data": {
      "text/plain": [
       "[1, 3, 12, 0, 0]"
      ]
     },
     "execution_count": 2,
     "metadata": {},
     "output_type": "execute_result"
    }
   ],
   "source": [
    "def moveZeroes(nums):\n",
    "    \n",
    "    slow=0\n",
    "    fast=0\n",
    "    while fast < len(nums):\n",
    "        if nums[slow] == 0 and nums[fast] != 0:\n",
    "            nums[slow], nums[fast] = nums[fast], nums[slow]\n",
    "            fast += 1\n",
    "            slow +=1\n",
    "        elif nums[fast] == 0:\n",
    "            fast += 1\n",
    "        else:\n",
    "            slow += 1\n",
    "            fast += 1\n",
    "    return nums\n",
    "nums = [0,1,0,3,12]\n",
    "moveZeroes(nums)"
   ]
  },
  {
   "cell_type": "code",
   "execution_count": null,
   "id": "4480d71f-aeea-460e-b3a9-196ad569db73",
   "metadata": {},
   "outputs": [],
   "source": []
  }
 ],
 "metadata": {
  "kernelspec": {
   "display_name": "Python 3 (ipykernel)",
   "language": "python",
   "name": "python3"
  },
  "language_info": {
   "codemirror_mode": {
    "name": "ipython",
    "version": 3
   },
   "file_extension": ".py",
   "mimetype": "text/x-python",
   "name": "python",
   "nbconvert_exporter": "python",
   "pygments_lexer": "ipython3",
   "version": "3.10.8"
  }
 },
 "nbformat": 4,
 "nbformat_minor": 5
}
