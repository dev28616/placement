{
 "cells": [
  {
   "cell_type": "code",
   "execution_count": null,
   "id": "9ea3bb44-18f3-4a2f-8476-0b4098f43c15",
   "metadata": {},
   "outputs": [],
   "source": [
    "def firstUniqChar(s):\n",
    "    for i,c in enumerate(s):\n",
    "        if s.count(c)==1:\n",
    "            return i\n",
    "            break\n",
    "    return -1\n",
    "s = "
   ]
  }
 ],
 "metadata": {
  "kernelspec": {
   "display_name": "Python 3 (ipykernel)",
   "language": "python",
   "name": "python3"
  },
  "language_info": {
   "codemirror_mode": {
    "name": "ipython",
    "version": 3
   },
   "file_extension": ".py",
   "mimetype": "text/x-python",
   "name": "python",
   "nbconvert_exporter": "python",
   "pygments_lexer": "ipython3",
   "version": "3.10.8"
  }
 },
 "nbformat": 4,
 "nbformat_minor": 5
}
