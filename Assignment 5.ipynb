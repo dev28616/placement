{
 "cells": [
  {
   "cell_type": "code",
   "execution_count": 1,
   "id": "82a1cd10-2a43-4832-b11d-12646cb9e535",
   "metadata": {},
   "outputs": [
    {
     "data": {
      "text/plain": [
       "[[1, 2], [3, 4]]"
      ]
     },
     "execution_count": 1,
     "metadata": {},
     "output_type": "execute_result"
    }
   ],
   "source": [
    "1.\n",
    "def construct2DArray(original, m,n):\n",
    "    if len(original)!=m*n:\n",
    "        return []\n",
    "    matrix=[]\n",
    "    for i in range(0,len(original),n):\n",
    "        matrix.append(original[i:i+n])\n",
    "    return matrix\n",
    "original = [1,2,3,4]\n",
    "m = 2\n",
    "n = 2\n",
    "construct2DArray(original,m,n)"
   ]
  },
  {
   "cell_type": "code",
   "execution_count": 2,
   "id": "6fcfca0d-3128-4b98-a975-ac848d2c53b6",
   "metadata": {},
   "outputs": [
    {
     "data": {
      "text/plain": [
       "2"
      ]
     },
     "execution_count": 2,
     "metadata": {},
     "output_type": "execute_result"
    }
   ],
   "source": [
    "2.\n",
    "def arrangeCoins(n):\n",
    "    coin_counter = 0\n",
    "    rows = 0\n",
    "        \n",
    "    if n == 1:\n",
    "        return 1\n",
    "\n",
    "    while coin_counter+(rows+1) <= n:\n",
    "        rows += 1\n",
    "        coin_counter = coin_counter + rows\n",
    "      \n",
    "    return rows\n",
    "\n",
    "n = 5\n",
    "arrangeCoins(n)"
   ]
  },
  {
   "cell_type": "code",
   "execution_count": 3,
   "id": "00ffe753-5395-4cb0-950c-59d65442af86",
   "metadata": {},
   "outputs": [
    {
     "data": {
      "text/plain": [
       "[0, 1, 9, 16, 100]"
      ]
     },
     "execution_count": 3,
     "metadata": {},
     "output_type": "execute_result"
    }
   ],
   "source": [
    "3.\n",
    "def sortedSquares(nums):\n",
    "    sq_nums = list(map(lambda n: n**2, nums))\n",
    "    sq_nums.sort()\n",
    "    return sq_nums\n",
    "\n",
    "nums = [-4,-1,0,3,10]\n",
    "sortedSquares(nums)"
   ]
  },
  {
   "cell_type": "code",
   "execution_count": 4,
   "id": "8d809764-e3a0-4697-b43c-e4ee0a9172ef",
   "metadata": {},
   "outputs": [
    {
     "data": {
      "text/plain": [
       "[[1, 3], [4, 6]]"
      ]
     },
     "execution_count": 4,
     "metadata": {},
     "output_type": "execute_result"
    }
   ],
   "source": [
    "4.\n",
    "def findDifference(nums1, nums2):\n",
    "    n1=set(nums1)\n",
    "    n2=set(nums2)\n",
    "    r1=list(set(x for x in nums1 if x not in n2))\n",
    "    r2=list(set(x for x in nums2 if x not in n1))\n",
    "    return [r1,r2]\n",
    "\n",
    "nums1 = [1,2,3]\n",
    "nums2 = [2,4,6]\n",
    "findDifference(nums1, nums2)"
   ]
  },
  {
   "cell_type": "code",
   "execution_count": 5,
   "id": "d5b4e18a-6773-4cf2-94b1-4d20239bcb7e",
   "metadata": {},
   "outputs": [
    {
     "data": {
      "text/plain": [
       "2"
      ]
     },
     "execution_count": 5,
     "metadata": {},
     "output_type": "execute_result"
    }
   ],
   "source": [
    "5.\n",
    "import bisect\n",
    "\n",
    "def findTheDistanceValue(arr1, arr2,d):\n",
    "    arr2=sorted(arr2)\n",
    "    res=0\n",
    "    for num in arr1:\n",
    "        idx = bisect.bisect_left(arr2, num)\n",
    "        lower_within_limits = abs(arr2[min(len(arr2)-1, idx)]-num)>d\n",
    "        higher_within_limits = abs(arr2[max(0, idx-1)]-num)>d\n",
    "        if lower_within_limits and higher_within_limits:\n",
    "            res+=1\n",
    "    return res\n",
    "\n",
    "arr1 = [4,5,8]\n",
    "arr2 = [10,9,1,8]\n",
    "d = 2\n",
    "findTheDistanceValue(arr1,arr2,d)"
   ]
  },
  {
   "cell_type": "code",
   "execution_count": 6,
   "id": "a60bbbf7-b17b-4760-b557-288f2c7fd9c7",
   "metadata": {},
   "outputs": [
    {
     "data": {
      "text/plain": [
       "[3, 2]"
      ]
     },
     "execution_count": 6,
     "metadata": {},
     "output_type": "execute_result"
    }
   ],
   "source": [
    "6.\n",
    "def findDuplicates(nums):\n",
    "    val={}\n",
    "    for i in nums:\n",
    "        if i in val:\n",
    "            val[i]+=1\n",
    "        else:\n",
    "            val[i]=1\n",
    "    keys=[key for key,values in val.items() if values==2]\n",
    "    return keys\n",
    "\n",
    "nums = [4,3,2,7,8,2,3,1]\n",
    "findDuplicates(nums)"
   ]
  },
  {
   "cell_type": "code",
   "execution_count": 7,
   "id": "7ac8b42e-48cf-4d04-b6f4-8056b8e85c62",
   "metadata": {},
   "outputs": [
    {
     "data": {
      "text/plain": [
       "1"
      ]
     },
     "execution_count": 7,
     "metadata": {},
     "output_type": "execute_result"
    }
   ],
   "source": [
    "7.\n",
    "def findMin(nums):\n",
    "    low=0\n",
    "    high=len(nums)-1\n",
    "    res=nums[0]\n",
    "    while low<=high:\n",
    "        if nums[low]<nums[high]:\n",
    "            res=min(res,nums[low])\n",
    "            break\n",
    "        mid=(low+high)//2\n",
    "        res=min(res,nums[mid])\n",
    "        if nums[mid]>=nums[low]:\n",
    "            low=mid+1\n",
    "        else:\n",
    "            high=mid-1\n",
    "    return res\n",
    "\n",
    "nums = [3,4,5,1,2]\n",
    "findMin(nums)"
   ]
  },
  {
   "cell_type": "code",
   "execution_count": 8,
   "id": "90208ead-abd6-4eee-9ba3-c70e882d52ba",
   "metadata": {},
   "outputs": [
    {
     "data": {
      "text/plain": [
       "[1, 3, 4]"
      ]
     },
     "execution_count": 8,
     "metadata": {},
     "output_type": "execute_result"
    }
   ],
   "source": [
    "8.\n",
    "from collections import Counter\n",
    "\n",
    "def findOriginalArray(changed):\n",
    "    if len(changed) % 2 == 1:\n",
    "        return []\n",
    "    data = Counter(changed)\n",
    "    result = []\n",
    "    for k in sorted(data):\n",
    "        if data[k] < 0:\n",
    "            return []\n",
    "        value = k * 2\n",
    "        while data[k] > 0:\n",
    "            if data[value] == 0:\n",
    "                return []\n",
    "            result.append(k)\n",
    "            data[k] -= 1\n",
    "            data[value] -= 1\n",
    "    return result\n",
    "    \n",
    "changed = [1,3,4,2,6,8]    \n",
    "findOriginalArray(changed)"
   ]
  },
  {
   "cell_type": "code",
   "execution_count": null,
   "id": "63790250-06bd-4c20-8fc0-7866bcdd252c",
   "metadata": {},
   "outputs": [],
   "source": []
  }
 ],
 "metadata": {
  "kernelspec": {
   "display_name": "Python 3 (ipykernel)",
   "language": "python",
   "name": "python3"
  },
  "language_info": {
   "codemirror_mode": {
    "name": "ipython",
    "version": 3
   },
   "file_extension": ".py",
   "mimetype": "text/x-python",
   "name": "python",
   "nbconvert_exporter": "python",
   "pygments_lexer": "ipython3",
   "version": "3.10.8"
  }
 },
 "nbformat": 4,
 "nbformat_minor": 5
}
