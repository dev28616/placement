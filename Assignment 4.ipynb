{
 "cells": [
  {
   "cell_type": "code",
   "execution_count": 1,
   "id": "538dc8dd-0a87-4c6d-a09f-b999924bf6d9",
   "metadata": {},
   "outputs": [
    {
     "data": {
      "text/plain": [
       "[1, 5]"
      ]
     },
     "execution_count": 1,
     "metadata": {},
     "output_type": "execute_result"
    }
   ],
   "source": [
    "1.\n",
    "def arraysIntersection(arr1, arr2,arr3):\n",
    "    def find(arr, val):\n",
    "        left, right = 0, len(arr) - 1\n",
    "        while left < right:\n",
    "            mid = (left + right) >> 1\n",
    "            if arr[mid] >= val:\n",
    "                right = mid\n",
    "            else:\n",
    "                left = mid + 1\n",
    "        return arr[left] == val\n",
    "\n",
    "    res = []\n",
    "    for num in arr1:\n",
    "        if find(arr2, num) and find(arr3, num):\n",
    "            res.append(num)\n",
    "    return res\n",
    "\n",
    "arr1 = [1,2,3,4,5]\n",
    "arr2 = [1,2,5,7,9]\n",
    "arr3 = [1,3,4,5,8]\n",
    "\n",
    "arraysIntersection(arr1, arr2, arr3)"
   ]
  },
  {
   "cell_type": "code",
   "execution_count": 2,
   "id": "6238f0f7-2b53-4068-801c-576addb432e5",
   "metadata": {},
   "outputs": [
    {
     "data": {
      "text/plain": [
       "[[1, 3], [4, 6]]"
      ]
     },
     "execution_count": 2,
     "metadata": {},
     "output_type": "execute_result"
    }
   ],
   "source": [
    "2.\n",
    "def findDifference(nums1, nums2):\n",
    "    n1=set(nums1)\n",
    "    n2=set(nums2)\n",
    "    r1=list(set(x for x in nums1 if x not in n2))\n",
    "    r2=list(set(x for x in nums2 if x not in n1))\n",
    "    return [r1,r2]\n",
    "\n",
    "nums1 = [1,2,3]\n",
    "nums2 = [2,4,6]\n",
    "findDifference(nums1, nums2)"
   ]
  },
  {
   "cell_type": "code",
   "execution_count": 3,
   "id": "10add2da-b140-4586-b1e7-ceb81d0fd307",
   "metadata": {},
   "outputs": [
    {
     "data": {
      "text/plain": [
       "[[1, 4, 7], [2, 5, 8], [3, 6, 9]]"
      ]
     },
     "execution_count": 3,
     "metadata": {},
     "output_type": "execute_result"
    }
   ],
   "source": [
    "3.\n",
    "def transpose(matrix):\n",
    "    m,n=len(matrix),len(matrix[0])\n",
    "    ans = [[None] * m for _ in range(n)]\n",
    "    for i in range(m):\n",
    "        for j in range(n):\n",
    "            ans[j][i]=matrix[i][j]\n",
    "        \n",
    "    return ans\n",
    "\n",
    "matrix = [[1,2,3],[4,5,6],[7,8,9]]\n",
    "transpose(matrix)"
   ]
  },
  {
   "cell_type": "code",
   "execution_count": 4,
   "id": "dd91c231-d9af-4920-aa28-bf57fa37f70f",
   "metadata": {},
   "outputs": [
    {
     "data": {
      "text/plain": [
       "4"
      ]
     },
     "execution_count": 4,
     "metadata": {},
     "output_type": "execute_result"
    }
   ],
   "source": [
    "4.\n",
    "def arrayPairSum(nums):\n",
    "    return sum(sorted(nums)[::2])\n",
    "\n",
    "nums = [1,4,3,2]\n",
    "arrayPairSum(nums)"
   ]
  },
  {
   "cell_type": "code",
   "execution_count": 7,
   "id": "f33aadd5-8eee-44c6-bef4-36faf771ab8c",
   "metadata": {},
   "outputs": [
    {
     "data": {
      "text/plain": [
       "2"
      ]
     },
     "execution_count": 7,
     "metadata": {},
     "output_type": "execute_result"
    }
   ],
   "source": [
    "5.\n",
    "def arrangeCoins(n):\n",
    "    coin_counter = 0\n",
    "    rows = 0\n",
    "        \n",
    "    if n == 1:\n",
    "        return 1\n",
    "\n",
    "    while coin_counter+(rows+1) <= n:\n",
    "        rows += 1\n",
    "        coin_counter = coin_counter + rows\n",
    "      \n",
    "    return rows\n",
    "\n",
    "n = 5\n",
    "arrangeCoins(n)"
   ]
  },
  {
   "cell_type": "code",
   "execution_count": 8,
   "id": "6bbdcf16-b448-467f-8f59-c0409a199f1d",
   "metadata": {},
   "outputs": [
    {
     "data": {
      "text/plain": [
       "[0, 1, 9, 16, 100]"
      ]
     },
     "execution_count": 8,
     "metadata": {},
     "output_type": "execute_result"
    }
   ],
   "source": [
    "6.\n",
    "def sortedSquares(nums):\n",
    "    sq_nums = list(map(lambda n: n**2, nums))\n",
    "    sq_nums.sort()\n",
    "    return sq_nums\n",
    "\n",
    "nums = [-4,-1,0,3,10]\n",
    "sortedSquares(nums)"
   ]
  },
  {
   "cell_type": "code",
   "execution_count": 9,
   "id": "355278db-9ec6-4fd6-bd55-dc14c06f2678",
   "metadata": {},
   "outputs": [
    {
     "data": {
      "text/plain": [
       "4"
      ]
     },
     "execution_count": 9,
     "metadata": {},
     "output_type": "execute_result"
    }
   ],
   "source": [
    "7.\n",
    "def maxCount(m, n, ops):\n",
    "    length = len(ops)\n",
    "    if length == 0:\n",
    "        return m*n\n",
    "    result = [ops[0][0] , ops[0][1]]\n",
    "    for i in range(1,length):\n",
    "        result[0] = min(result[0] , ops[i][0])\n",
    "        result[1] = min(result[1] , ops[i][1])\n",
    "    return result[0]*result[1]  \n",
    "\n",
    "m = 3\n",
    "n = 3\n",
    "ops = [[2,2],[3,3]]\n",
    "maxCount(m,n,ops)"
   ]
  },
  {
   "cell_type": "code",
   "execution_count": 10,
   "id": "a149b17d-28fc-4c49-9bb8-6ff598da2b54",
   "metadata": {},
   "outputs": [
    {
     "data": {
      "text/plain": [
       "[2, 3, 5, 4, 1, 7]"
      ]
     },
     "execution_count": 10,
     "metadata": {},
     "output_type": "execute_result"
    }
   ],
   "source": [
    "8.\n",
    "def shuffle(nums,n):\n",
    "    arr1=[]\n",
    "    arr2=[]\n",
    "    arr3=[]\n",
    "    for i in range(n):\n",
    "        arr1.append(nums[i])\n",
    "    for i in range(n,2*n):\n",
    "        arr2.append(nums[i])\n",
    "    for i in range(n):\n",
    "        arr3.append(arr1[i])\n",
    "        arr3.append(arr2[i])\n",
    "    return arr3\n",
    "\n",
    "nums = [2,5,1,3,4,7]\n",
    "n = 3\n",
    "\n",
    "shuffle(nums, n)"
   ]
  },
  {
   "cell_type": "code",
   "execution_count": null,
   "id": "f02f0c7b-d8f5-4f47-88a0-c2a0c8e9002b",
   "metadata": {},
   "outputs": [],
   "source": []
  }
 ],
 "metadata": {
  "kernelspec": {
   "display_name": "Python 3 (ipykernel)",
   "language": "python",
   "name": "python3"
  },
  "language_info": {
   "codemirror_mode": {
    "name": "ipython",
    "version": 3
   },
   "file_extension": ".py",
   "mimetype": "text/x-python",
   "name": "python",
   "nbconvert_exporter": "python",
   "pygments_lexer": "ipython3",
   "version": "3.10.8"
  }
 },
 "nbformat": 4,
 "nbformat_minor": 5
}
