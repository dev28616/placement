{
 "cells": [
  {
   "cell_type": "code",
   "execution_count": 1,
   "id": "11c8eb0d-a3cb-4e71-aa71-c64ed5ac9fdb",
   "metadata": {},
   "outputs": [
    {
     "name": "stdout",
     "output_type": "stream",
     "text": [
      "[0, 1]\n"
     ]
    }
   ],
   "source": [
    "1.\n",
    "def match_target(lst, target):\n",
    "    \n",
    "    for i in range(len(lst)-1):\n",
    "        for j in range(i+1, len(lst)):\n",
    "            if lst[i]+lst[j] == target:\n",
    "                print([i,j])\n",
    "nums = [2,7,11,15]\n",
    "target = 9\n",
    "match_target(nums,target)"
   ]
  },
  {
   "cell_type": "code",
   "execution_count": 2,
   "id": "8de417eb-b171-4d37-8400-8d9dcde46e45",
   "metadata": {},
   "outputs": [
    {
     "name": "stdout",
     "output_type": "stream",
     "text": [
      "k = 2, nums = [2, 2, 100, 100]\n"
     ]
    }
   ],
   "source": [
    "2.\n",
    "nums = [3,2,2,3]\n",
    "val = 3\n",
    "count= 0\n",
    "for i in range(len(nums)):\n",
    "    if nums[i]== val:\n",
    "        nums[i] = 100\n",
    "        count += 1\n",
    "nums[:] = sorted(nums)      \n",
    "print('k = {}, nums = {}'.format(len(nums)-count, nums))        "
   ]
  },
  {
   "cell_type": "code",
   "execution_count": 3,
   "id": "c8df388e-5c6b-4f52-a7ad-6932b00b0c50",
   "metadata": {},
   "outputs": [
    {
     "data": {
      "text/plain": [
       "[1, 2, 4]"
      ]
     },
     "execution_count": 3,
     "metadata": {},
     "output_type": "execute_result"
    }
   ],
   "source": [
    "4.\n",
    "def plusOne(digits):\n",
    "    strings = \"\"\n",
    "    for number in digits:\n",
    "        strings += str(number)\n",
    "\n",
    "    temp = str(int(strings) +1)\n",
    "\n",
    "    return [int(temp[i]) for i in range(len(temp))]\n",
    "    \n",
    "digits = [1,2,3]\n",
    "plusOne(digits)"
   ]
  },
  {
   "cell_type": "code",
   "execution_count": 4,
   "id": "b9ec0636-6419-457f-9dd6-cd491beeaa40",
   "metadata": {},
   "outputs": [
    {
     "name": "stdout",
     "output_type": "stream",
     "text": [
      "[1, 2, 2, 3, 5, 6]\n"
     ]
    }
   ],
   "source": [
    "5.\n",
    "nums1 = [1,2,3,0,0,0]\n",
    "m = 3\n",
    "nums2 = [2,5,6]\n",
    "n = 3\n",
    "for i in range(m,m+n):\n",
    "    nums1[i]=nums2[i-m]\n",
    "nums1.sort()\n",
    "print(nums1)"
   ]
  },
  {
   "cell_type": "code",
   "execution_count": 5,
   "id": "df82a768-4893-401d-aa64-d184cb4991f7",
   "metadata": {},
   "outputs": [
    {
     "name": "stdout",
     "output_type": "stream",
     "text": [
      "True\n"
     ]
    }
   ],
   "source": [
    "6.\n",
    "nums = [1,2,3,1]\n",
    "hset = set()\n",
    "for idx in nums:\n",
    "    if idx in hset:\n",
    "        print(\"True\")\n",
    "    else:\n",
    "        hset.add(idx)"
   ]
  },
  {
   "cell_type": "code",
   "execution_count": 6,
   "id": "a2f46be3-6eaf-4089-bb69-89bd68d999f5",
   "metadata": {},
   "outputs": [
    {
     "name": "stdout",
     "output_type": "stream",
     "text": [
      "[1, 3, 12, 0, 0]\n"
     ]
    }
   ],
   "source": [
    "7.\n",
    "nums = [0,1,0,3,12]\n",
    "zero_pos = 0\n",
    "for i in range(len(nums)):\n",
    "    if nums[i] != 0:\n",
    "        nums[i], nums[zero_pos] = nums[zero_pos], nums[i]\n",
    "        zero_pos += 1   \n",
    "print(nums)"
   ]
  },
  {
   "cell_type": "code",
   "execution_count": 7,
   "id": "3d58ba61-76ff-4835-a876-35bc90691d24",
   "metadata": {},
   "outputs": [
    {
     "name": "stdout",
     "output_type": "stream",
     "text": [
      "[2, 3]\n"
     ]
    }
   ],
   "source": [
    "8.\n",
    "nums = [1,2,2,4]\n",
    "n = len(nums)\n",
    "s = n*(n+1)//2\n",
    "miss = s - sum(set(nums))\n",
    "duplicate = sum(nums) + miss - s\n",
    "print([duplicate, miss])"
   ]
  },
  {
   "cell_type": "code",
   "execution_count": null,
   "id": "2b70b9c8-7e69-4636-8b1e-1346a729bd60",
   "metadata": {},
   "outputs": [],
   "source": []
  }
 ],
 "metadata": {
  "kernelspec": {
   "display_name": "Python 3 (ipykernel)",
   "language": "python",
   "name": "python3"
  },
  "language_info": {
   "codemirror_mode": {
    "name": "ipython",
    "version": 3
   },
   "file_extension": ".py",
   "mimetype": "text/x-python",
   "name": "python",
   "nbconvert_exporter": "python",
   "pygments_lexer": "ipython3",
   "version": "3.10.8"
  }
 },
 "nbformat": 4,
 "nbformat_minor": 5
}
