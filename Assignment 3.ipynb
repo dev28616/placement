{
 "cells": [
  {
   "cell_type": "code",
   "execution_count": 1,
   "id": "dac44704-3f4f-4e95-8e39-5617113bba19",
   "metadata": {},
   "outputs": [
    {
     "name": "stdout",
     "output_type": "stream",
     "text": [
      "2\n"
     ]
    }
   ],
   "source": [
    "1.\n",
    "def threeSumClosest(nums, target):\n",
    "    closet = float('inf')\n",
    "    nums.sort()\n",
    "    for i in range(len(nums) - 2):\n",
    "        l, r = i + 1, len(nums) - 1\n",
    "        while l < r:\n",
    "            sum3 = nums[i] + nums[l] + nums[r]\n",
    "            \n",
    "            if sum3 < target:\n",
    "                l += 1\n",
    "            else:\n",
    "                r -=1\n",
    "            if abs(sum3 - target) < abs(closet - target):\n",
    "                closet = sum3\n",
    "    print(closet)\n",
    "\n",
    "nums = [-1,2,1,-4]\n",
    "target = 1\n",
    "threeSumClosest(nums,target)"
   ]
  },
  {
   "cell_type": "code",
   "execution_count": 2,
   "id": "79ac8485-8183-4168-8ec9-b5d026431e7e",
   "metadata": {},
   "outputs": [
    {
     "name": "stdout",
     "output_type": "stream",
     "text": [
      "[[-2, -1, 1, 2], [-2, 0, 0, 2], [-1, 0, 0, 1]]\n"
     ]
    }
   ],
   "source": [
    "2.\n",
    "def fourSum(nums, target):\n",
    "    res,quad=[],[]\n",
    "    nums.sort()\n",
    "    def ksum(k,start,target):\n",
    "        if k!=2:\n",
    "            for i in range(start,len(nums)-k+1):\n",
    "                if i>start and nums[i]==nums[i-1]:\n",
    "                    continue\n",
    "                quad.append(nums[i])\n",
    "                ksum(k-1,i+1,target-nums[i])\n",
    "                quad.pop()\n",
    "            return\n",
    "\n",
    "\n",
    "       \tl,r=start,len(nums)-1\n",
    "       \twhile l<r:\n",
    "            if nums[l]+nums[r]<target:\n",
    "                l+=1\n",
    "            elif nums[l]+nums[r]>target:\n",
    "                r-=1\n",
    "            else:\n",
    "                res.append(quad+[nums[l],nums[r]])\n",
    "                l+=1\n",
    "                while l<r and nums[l]==nums[l-1]:\n",
    "                    l+=1\n",
    "    ksum(4,0,target)\n",
    "    print(res)\n",
    "\n",
    "\n",
    "nums = [1,0,-1,0,-2,2]\n",
    "target = 0\n",
    "fourSum(nums, target)"
   ]
  },
  {
   "cell_type": "code",
   "execution_count": 3,
   "id": "bcf53dae-231d-4cef-90b1-145d3ba4eacd",
   "metadata": {},
   "outputs": [
    {
     "name": "stdout",
     "output_type": "stream",
     "text": [
      "[1, 3, 2]\n",
      "[2, 1, 3]\n"
     ]
    }
   ],
   "source": [
    "3.\n",
    "def nextPermutation(nums):\n",
    "    for curr in reversed(range(0, len(nums) - 1)):\n",
    "        if nums[curr] >= nums[curr + 1]:\n",
    "            continue\n",
    "                \n",
    "        next = curr + 1;\n",
    "        while next < len(nums) and nums[next] > nums[curr]:\n",
    "            next += 1\n",
    "                \n",
    "        nums[curr], nums[next - 1] = nums[next - 1], nums[curr]\n",
    "            \n",
    "        nums[curr+1:] = reversed(nums[curr+1:])\n",
    "                \n",
    "        print(nums)\n",
    "\n",
    "\n",
    "nums = [1,2,3]\n",
    "nextPermutation(nums)"
   ]
  },
  {
   "cell_type": "code",
   "execution_count": 4,
   "id": "e207725f-1c14-4793-845e-5475413ff4d4",
   "metadata": {},
   "outputs": [
    {
     "name": "stdout",
     "output_type": "stream",
     "text": [
      "[1, 2, 4]\n"
     ]
    }
   ],
   "source": [
    "5.\n",
    "def plusOne(digits):\n",
    "    strings = \"\"\n",
    "    for number in digits:\n",
    "        strings += str(number)\n",
    "\n",
    "    temp = str(int(strings) +1)\n",
    "\n",
    "    print([int(temp[i]) for i in range(len(temp))])\n",
    "\n",
    "    \n",
    "digits = [1,2,3]\n",
    "plusOne(digits)"
   ]
  },
  {
   "cell_type": "code",
   "execution_count": 5,
   "id": "970c7d4f-21d1-4ea9-aa05-e36bda732690",
   "metadata": {},
   "outputs": [
    {
     "name": "stdout",
     "output_type": "stream",
     "text": [
      "1\n"
     ]
    }
   ],
   "source": [
    "6.\n",
    "import functools\n",
    "def singleNumber(nums):\n",
    "\tprint(functools.reduce(lambda total, el: total ^ el, nums))\n",
    "    \n",
    "nums = [2,2,1]\n",
    "singleNumber(nums)"
   ]
  },
  {
   "cell_type": "code",
   "execution_count": 6,
   "id": "2d40d0ce-c36f-4d32-8ff8-e6b0d313a9d2",
   "metadata": {},
   "outputs": [
    {
     "data": {
      "text/plain": [
       "False"
      ]
     },
     "execution_count": 6,
     "metadata": {},
     "output_type": "execute_result"
    }
   ],
   "source": [
    "8.\n",
    "def canAttendMeetings(intervals):\n",
    "    new_intervals = sorted(intervals, key=lambda x: x[0])\n",
    "    for i in range(1,len(new_intervals)):\n",
    "        if new_intervals[i-1][1] > new_intervals[i][0]:return False\n",
    "    print(True)\n",
    "    \n",
    "intervals = [[0,30],[5,10],[15,20]]\n",
    "canAttendMeetings(intervals)"
   ]
  },
  {
   "cell_type": "code",
   "execution_count": null,
   "id": "052d751b-40b0-4896-88a3-e6dfbfdaa690",
   "metadata": {},
   "outputs": [],
   "source": []
  }
 ],
 "metadata": {
  "kernelspec": {
   "display_name": "Python 3 (ipykernel)",
   "language": "python",
   "name": "python3"
  },
  "language_info": {
   "codemirror_mode": {
    "name": "ipython",
    "version": 3
   },
   "file_extension": ".py",
   "mimetype": "text/x-python",
   "name": "python",
   "nbconvert_exporter": "python",
   "pygments_lexer": "ipython3",
   "version": "3.10.8"
  }
 },
 "nbformat": 4,
 "nbformat_minor": 5
}
