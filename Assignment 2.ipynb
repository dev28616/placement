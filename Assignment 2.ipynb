{
 "cells": [
  {
   "cell_type": "code",
   "execution_count": 3,
   "id": "ee0054a3-55c0-4a12-946c-d84c772ceec1",
   "metadata": {},
   "outputs": [
    {
     "name": "stdout",
     "output_type": "stream",
     "text": [
      "4\n"
     ]
    }
   ],
   "source": [
    "1.\n",
    "def arrayPairSum(nums):\n",
    "    print(sum(sorted(nums)[::2]))\n",
    "    \n",
    "nums = [1,4,3,2]\n",
    "arrayPairSum(nums)"
   ]
  },
  {
   "cell_type": "code",
   "execution_count": 4,
   "id": "189692a6-d165-48a9-b8d0-c32a3c56e074",
   "metadata": {},
   "outputs": [
    {
     "name": "stdout",
     "output_type": "stream",
     "text": [
      "3\n"
     ]
    }
   ],
   "source": [
    "2.\n",
    "def distributeCandies(candyType):\n",
    "        print(min(len(set(candyType)),len(candyType)//2))\n",
    "        \n",
    "candyType = [1,1,2,2,3,3]\n",
    "distributeCandies(candyType)"
   ]
  },
  {
   "cell_type": "code",
   "execution_count": 5,
   "id": "375a7a11-c8f1-47be-b6f1-49ae8d64d9e1",
   "metadata": {},
   "outputs": [
    {
     "name": "stdout",
     "output_type": "stream",
     "text": [
      "5\n"
     ]
    }
   ],
   "source": [
    "3.\n",
    "def findLHS(nums):\n",
    "    d, a = {}, 0\n",
    "    for i in nums:\n",
    "        if i not in d:\n",
    "            d[i] = 1\n",
    "        else: \n",
    "            d[i] += 1\n",
    "    for i in d:\n",
    "        if i + 1 in d.keys():\n",
    "             a = max(a, d[i] + d[i+1])\n",
    "    print(a)\n",
    "    \n",
    "nums = [1,3,2,2,5,2,3,7]\n",
    "findLHS(nums)"
   ]
  },
  {
   "cell_type": "code",
   "execution_count": 7,
   "id": "251a692d-d8c1-48d4-aa08-dee9e708ef57",
   "metadata": {},
   "outputs": [
    {
     "name": "stdout",
     "output_type": "stream",
     "text": [
      "True\n"
     ]
    }
   ],
   "source": [
    "4.\n",
    "def canPlaceFlowers(flowerbed, n):\n",
    "    if n == 0:\n",
    "        print(True)\n",
    "    for i in range(len(flowerbed)):\n",
    "        if flowerbed[i] == 0 and (i == 0 or flowerbed[i-1] == 0) and (i == len(flowerbed)-1 or flowerbed[i+1] == 0):\n",
    "            flowerbed[i] = 1\n",
    "            n -= 1\n",
    "            if n == 0:\n",
    "                print(True)\n",
    "    \n",
    "flowerbed = [1,0,0,0,1]\n",
    "n = 1\n",
    "canPlaceFlowers(flowerbed, n)"
   ]
  },
  {
   "cell_type": "code",
   "execution_count": 8,
   "id": "8e1c8505-4568-49f1-8c38-dd15e1bcebfc",
   "metadata": {},
   "outputs": [
    {
     "name": "stdout",
     "output_type": "stream",
     "text": [
      "6\n"
     ]
    }
   ],
   "source": [
    "5.\n",
    "def maximumProduct(nums):\n",
    "    nums.sort()\n",
    "    print(max(nums[0]*nums[1]*nums[-1],nums[-1]*nums[-2]*nums[-3]))\n",
    "    \n",
    "nums = [1,2,3]\n",
    "maximumProduct(nums)    "
   ]
  },
  {
   "cell_type": "code",
   "execution_count": 7,
   "id": "245b702a-e26d-4b0d-8f69-c468d5590fb4",
   "metadata": {},
   "outputs": [
    {
     "name": "stdout",
     "output_type": "stream",
     "text": [
      "True\n"
     ]
    }
   ],
   "source": [
    "7.\n",
    "def isMonotonic(nums):\n",
    "    if nums[-1]> nums[0]:\n",
    "        for i in range(len(nums)-1):\n",
    "            if nums[i+1] < nums[i]:\n",
    "                print(False)\n",
    "        print(True)        \n",
    "    elif nums[-1]<nums[0]:\n",
    "        for i in range(len(nums)-1):\n",
    "            if nums[i+1] > nums[i]:\n",
    "                print(False)\n",
    "\t\t#print(True)\n",
    "    else:\n",
    "        for i in range(len(nums)-1):\n",
    "            if nums[i+1] != nums[i]:\n",
    "                print(False)\n",
    "\t\t#print(True)\n",
    "            \n",
    "nums = [1,2,2,3]\n",
    "isMonotonic(nums)"
   ]
  },
  {
   "cell_type": "code",
   "execution_count": 8,
   "id": "25f85e93-1a8d-470a-a837-d6191fafb3aa",
   "metadata": {},
   "outputs": [
    {
     "name": "stdout",
     "output_type": "stream",
     "text": [
      "0\n"
     ]
    }
   ],
   "source": [
    "8.\n",
    "def smallestRangeI(nums, k):\n",
    "    x=max(nums)\n",
    "    y=min(nums)\n",
    "    print(max(0,(x-k)-(y+k)))\n",
    "    \n",
    "nums = [1]\n",
    "k = 0\n",
    "smallestRangeI(nums,k)"
   ]
  },
  {
   "cell_type": "code",
   "execution_count": null,
   "id": "97568bfc-5b47-4ec9-a676-e75f50452935",
   "metadata": {},
   "outputs": [],
   "source": []
  }
 ],
 "metadata": {
  "kernelspec": {
   "display_name": "Python 3 (ipykernel)",
   "language": "python",
   "name": "python3"
  },
  "language_info": {
   "codemirror_mode": {
    "name": "ipython",
    "version": 3
   },
   "file_extension": ".py",
   "mimetype": "text/x-python",
   "name": "python",
   "nbconvert_exporter": "python",
   "pygments_lexer": "ipython3",
   "version": "3.10.8"
  }
 },
 "nbformat": 4,
 "nbformat_minor": 5
}
