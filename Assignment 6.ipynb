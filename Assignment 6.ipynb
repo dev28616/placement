{
 "cells": [
  {
   "cell_type": "code",
   "execution_count": 1,
   "id": "f4be76f9-2bb8-4899-9251-4c56c0bc234e",
   "metadata": {},
   "outputs": [
    {
     "data": {
      "text/plain": [
       "[0, 4, 1, 3, 2]"
      ]
     },
     "execution_count": 1,
     "metadata": {},
     "output_type": "execute_result"
    }
   ],
   "source": [
    "1.\n",
    "def diStringMatch(s):\n",
    "    per=[]\n",
    "    lower=0\n",
    "    upper=len(s)\n",
    "    for i in s:\n",
    "        if i=='I':\n",
    "            per.append(lower)\n",
    "            lower+=1\n",
    "        else:\n",
    "            per.append(upper)\n",
    "            upper-=1\n",
    "    if s[len(s)-1]=='I':\n",
    "        per.append(upper)\n",
    "    else:\n",
    "        per.append(lower)\n",
    "    return per\n",
    "\n",
    "s = \"IDID\"\n",
    "diStringMatch(s)"
   ]
  },
  {
   "cell_type": "code",
   "execution_count": 8,
   "id": "de931297-bd72-45b6-9032-24d72518f458",
   "metadata": {},
   "outputs": [
    {
     "data": {
      "text/plain": [
       "True"
      ]
     },
     "execution_count": 8,
     "metadata": {},
     "output_type": "execute_result"
    }
   ],
   "source": [
    "2.\n",
    "def searchMatrix(matrix, target):\n",
    "    row,col=len(matrix),len(matrix[0])\n",
    "    left = 0\n",
    "    right = row*col-1\n",
    "    while left<=right:\n",
    "        mid=(left+right)//2\n",
    "        num=matrix[mid//col][mid%col]\n",
    "        if num==target:\n",
    "            return True\n",
    "        if num>target:\n",
    "            right=mid-1\n",
    "        else:\n",
    "            left=mid+1\n",
    "    return False\n",
    "\n",
    "matrix = [[1,3,5,7],[10,11,16,20],[23,30,34,60]]\n",
    "target = 3\n",
    "searchMatrix(matrix, target)"
   ]
  },
  {
   "cell_type": "code",
   "execution_count": 9,
   "id": "acd8788a-0f62-4464-96bd-e05499cb4d23",
   "metadata": {},
   "outputs": [
    {
     "data": {
      "text/plain": [
       "False"
      ]
     },
     "execution_count": 9,
     "metadata": {},
     "output_type": "execute_result"
    }
   ],
   "source": [
    "3.\n",
    "def validMountainArray(arr):\n",
    "    place = arr.index(max(arr))\n",
    "    if place == 0 or place == len(arr) - 1:\n",
    "        return False\n",
    "    else:\n",
    "        value = True\n",
    "        i = 0\n",
    "        while i < place:\n",
    "            if arr[i] >= arr[i + 1]:\n",
    "                value = False\n",
    "                break\n",
    "            else:\n",
    "                i += 1\n",
    "        i = place + 1\n",
    "        if value:\n",
    "            while i < len(arr):\n",
    "                if arr[i - 1] <= arr[i]:\n",
    "                    print(i)\n",
    "                    return False\n",
    "                else:\n",
    "                    i += 1\n",
    "        else:\n",
    "            return False\n",
    "        return True\n",
    "    \n",
    "arr = [2,1]\n",
    "validMountainArray(arr)"
   ]
  },
  {
   "cell_type": "code",
   "execution_count": 10,
   "id": "44fe4ea2-08d6-4916-91d7-6e142e18609a",
   "metadata": {},
   "outputs": [
    {
     "data": {
      "text/plain": [
       "2"
      ]
     },
     "execution_count": 10,
     "metadata": {},
     "output_type": "execute_result"
    }
   ],
   "source": [
    "4.\n",
    "def findMaxLength(nums):\n",
    "    res = 0\n",
    "    ps = 0\n",
    "    prefix_sum_at_idx = {0: 0}\n",
    "    for i, n in enumerate(nums):\n",
    "        ps = ps+1 if n == 1 else ps-1\n",
    "         \n",
    "        if ps in prefix_sum_at_idx:\n",
    "            res = max(res, i - prefix_sum_at_idx[ps] + 1)\n",
    "        else:\n",
    "            prefix_sum_at_idx[ps] = i+1\n",
    "            \n",
    "    return res\n",
    "nums = [0,1]\n",
    "findMaxLength(nums)"
   ]
  },
  {
   "cell_type": "code",
   "execution_count": 11,
   "id": "95ff1510-edb1-463a-b7e6-98e841565e20",
   "metadata": {},
   "outputs": [
    {
     "data": {
      "text/plain": [
       "40"
      ]
     },
     "execution_count": 11,
     "metadata": {},
     "output_type": "execute_result"
    }
   ],
   "source": [
    "5.\n",
    "def minValue(A, B, n):\n",
    "    A.sort()\n",
    "    B.sort()\n",
    "    \n",
    "    result = 0\n",
    "    for i in range(n):\n",
    "        result += (A[i] * B[n - i - 1])\n",
    " \n",
    "    return result\n",
    "\n",
    "nums1 = [5,3,4,2]\n",
    "nums2 = [4,2,2,5]\n",
    "n = len(nums1)\n",
    "minValue(nums1, nums2, n)"
   ]
  },
  {
   "cell_type": "code",
   "execution_count": 12,
   "id": "ae6ae579-b825-442a-888c-fca00405b0fe",
   "metadata": {},
   "outputs": [
    {
     "data": {
      "text/plain": [
       "[[1, 2, 3], [8, 9, 4], [7, 6, 5]]"
      ]
     },
     "execution_count": 12,
     "metadata": {},
     "output_type": "execute_result"
    }
   ],
   "source": [
    "7.\n",
    "def generateMatrix(n):\n",
    "    if not n:\n",
    "        return []\n",
    "    matrix = [[0 for _ in range(n)] for _ in range(n)]\n",
    "    left, right, top, bottom, num = 0, n-1, 0, n-1, 1\n",
    "    while left <= right and top <= bottom:\n",
    "        for i in range(left, right+1):\n",
    "            matrix[top][i] = num \n",
    "            num += 1\n",
    "        top += 1\n",
    "        for i in range(top, bottom+1):\n",
    "            matrix[i][right] = num\n",
    "            num += 1\n",
    "        right -= 1\n",
    "        if top <= bottom:\n",
    "            for i in range(right, left-1, -1):\n",
    "                matrix[bottom][i] = num\n",
    "                num += 1\n",
    "            bottom -= 1\n",
    "        if left <= right:\n",
    "            for i in range(bottom, top-1, -1):\n",
    "                matrix[i][left] = num\n",
    "                num += 1\n",
    "            left += 1\n",
    "    return matrix\n",
    "\n",
    "n = 3\n",
    "generateMatrix(n)"
   ]
  },
  {
   "cell_type": "code",
   "execution_count": 16,
   "id": "2b351b2c-c7ea-486a-8b18-f10baa5f5a2b",
   "metadata": {},
   "outputs": [
    {
     "data": {
      "text/plain": [
       "[[7, 0, 0], [-7, 0, 3]]"
      ]
     },
     "execution_count": 16,
     "metadata": {},
     "output_type": "execute_result"
    }
   ],
   "source": [
    "8.\n",
    "from collections import defaultdict\n",
    "def multiply(mat1, mat2):\n",
    "    r1, c1, c2 = len(mat1), len(mat1[0]), len(mat2[0])\n",
    "    res = [[0] * c2 for _ in range(r1)]\n",
    "    mp = defaultdict(list)\n",
    "    for i in range(r1):\n",
    "        for j in range(c1):\n",
    "             if mat1[i][j] != 0:\n",
    "                mp[i].append(j)\n",
    "    for i in range(r1):\n",
    "        for j in range(c2):\n",
    "            for k in mp[i]:\n",
    "                res[i][j] += mat1[i][k] * mat2[k][j]\n",
    "    return res\n",
    "\n",
    "mat1 = [[1,0,0],[-1,0,3]]\n",
    "mat2 = [[7,0,0],[0,0,0],[0,0,1]]\n",
    "multiply(mat1, mat2)"
   ]
  },
  {
   "cell_type": "code",
   "execution_count": null,
   "id": "cb6be690-e5d9-4065-8abb-84068d9f4dec",
   "metadata": {},
   "outputs": [],
   "source": []
  },
  {
   "cell_type": "code",
   "execution_count": null,
   "id": "6a7f7db3-64e4-4a93-9b8a-ca25fea5b9fe",
   "metadata": {},
   "outputs": [],
   "source": []
  }
 ],
 "metadata": {
  "kernelspec": {
   "display_name": "Python 3 (ipykernel)",
   "language": "python",
   "name": "python3"
  },
  "language_info": {
   "codemirror_mode": {
    "name": "ipython",
    "version": 3
   },
   "file_extension": ".py",
   "mimetype": "text/x-python",
   "name": "python",
   "nbconvert_exporter": "python",
   "pygments_lexer": "ipython3",
   "version": "3.10.8"
  }
 },
 "nbformat": 4,
 "nbformat_minor": 5
}
