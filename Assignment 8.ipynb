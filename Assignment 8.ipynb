{
 "cells": [
  {
   "cell_type": "code",
   "execution_count": 1,
   "id": "79f45f74-81b9-4e6b-9c53-3f78d5a9eb9b",
   "metadata": {},
   "outputs": [
    {
     "data": {
      "text/plain": [
       "231"
      ]
     },
     "execution_count": 1,
     "metadata": {},
     "output_type": "execute_result"
    }
   ],
   "source": [
    "1.\n",
    "def minimumDeleteSum(s1, s2):\n",
    "    dp = [[0 for j in range(len(s2)+1)] for i in range(len(s1)+1)]\n",
    "    for i in range(len(s1)-1,-1,-1):\n",
    "        for j in range(len(s2)-1,-1,-1):\n",
    "            if s1[i] == s2[j]:\n",
    "                dp[i][j] = ord(s1[i]) + dp[i+1][j+1]\n",
    "            else:\n",
    "                dp[i][j] = max(dp[i+1][j],dp[i][j+1])                    \n",
    "    total = 0\n",
    "    for c in s1:\n",
    "        total += ord(c)\n",
    "    for c in s2:\n",
    "        total += ord(c)\n",
    "    return total - dp[0][0]*2\n",
    "\n",
    "s1 = \"sea\"\n",
    "s2 = \"eat\"\n",
    "minimumDeleteSum(s1, s2)"
   ]
  },
  {
   "cell_type": "code",
   "execution_count": 2,
   "id": "edbecb62-c284-43b8-8810-b643d3e9300a",
   "metadata": {},
   "outputs": [
    {
     "data": {
      "text/plain": [
       "True"
      ]
     },
     "execution_count": 2,
     "metadata": {},
     "output_type": "execute_result"
    }
   ],
   "source": [
    "2.\n",
    "def checkValidString(s):\n",
    "    st=[]\n",
    "    sr=[]\n",
    "    for i in range(len(s)):\n",
    "        if s[i]=='(':\n",
    "            st.append(i)\n",
    "        elif s[i]== '*':\n",
    "            sr.append(i)\n",
    "        else:\n",
    "            if st:\n",
    "                st.pop()\n",
    "            elif sr:\n",
    "                sr.pop()\n",
    "            else:\n",
    "                return False\n",
    "    while st:\n",
    "        if len(sr)==0:\n",
    "            return False\n",
    "        elif st[-1]< sr[-1]:\n",
    "            st.pop()\n",
    "            sr.pop()\n",
    "        else:\n",
    "            return False\n",
    "    return True\n",
    "    \n",
    "s = \"()\"\n",
    "checkValidString(s)"
   ]
  },
  {
   "cell_type": "code",
   "execution_count": 3,
   "id": "5f406ff3-4534-4212-93f6-08a08f8dfa5d",
   "metadata": {},
   "outputs": [
    {
     "data": {
      "text/plain": [
       "2"
      ]
     },
     "execution_count": 3,
     "metadata": {},
     "output_type": "execute_result"
    }
   ],
   "source": [
    "3.\n",
    "def minDistance(word1, word2):\n",
    "    m=len(word1)\n",
    "    n=len(word2)\n",
    "    dp=[]\n",
    "    for i in range (m+1):\n",
    "        dp.append([0]*(n+1))\n",
    "    for i in range (m+1):\n",
    "        dp[i][0]=i\n",
    "    for i in range (n+1):\n",
    "        dp[0][i]=i\n",
    "    for i in range (1,m+1):\n",
    "        for j in range (1,n+1):\n",
    "            if word1[i-1]==word2[j-1]:\n",
    "                dp[i][j]=dp[i-1][j-1]\n",
    "            else:\n",
    "                dp[i][j]=min(dp[i][j-1],dp[i-1][j])+1\n",
    "    return dp[-1][-1]\n",
    "\n",
    "word1 = \"sea\"\n",
    "word2 = \"eat\"\n",
    "minDistance(word1, word2)"
   ]
  },
  {
   "cell_type": "code",
   "execution_count": 4,
   "id": "20fd46ac-8af3-4ed3-913c-d607432f143f",
   "metadata": {},
   "outputs": [
    {
     "data": {
      "text/plain": [
       "6"
      ]
     },
     "execution_count": 4,
     "metadata": {},
     "output_type": "execute_result"
    }
   ],
   "source": [
    "5.\n",
    "def compress(chars):\n",
    "    d=[]\n",
    "    c=1\n",
    "    for i in range(1,len(chars)):\n",
    "        if chars[i]==chars[i-1]:\n",
    "            c+=1\n",
    "        else:\n",
    "            d.append([chars[i-1],c])\n",
    "            c=1\n",
    "    d.append([chars[-1],c]) \n",
    "    i=0\n",
    "    for k,v in d:\n",
    "        chars[i]=k\n",
    "        i+=1\n",
    "        if v>1:\n",
    "            for item in str(v):\n",
    "                chars[i]=str(item)\n",
    "                i+=1\n",
    "    return i\n",
    "\n",
    "chars = [\"a\",\"a\",\"b\",\"b\",\"c\",\"c\",\"c\"]\n",
    "compress(chars)"
   ]
  },
  {
   "cell_type": "code",
   "execution_count": null,
   "id": "3bef749e-486f-4cf6-bf98-e510d6ab0557",
   "metadata": {},
   "outputs": [],
   "source": [
    "6.\n",
    "from collections import defaultdict\n",
    "def findAnagrams(s,p):\n",
    "    hm, res, pL, sL = defaultdict(int), [], len(p), len(s)\n",
    "    if pL > sL: return []\n",
    "\n",
    "    for ch in p: hm[ch] += 1\n",
    "\n",
    "    for i in range(pL-1):\n",
    "        if s[i] in hm: hm[s[i]] -= 1\n",
    "           \n",
    "    for i in range(-1, sL-pL+1):\n",
    "        if i > -1 and s[i] in hm:\n",
    "            hm[s[i]] += 1\n",
    "        if i+pL < sL and s[i+pL] in hm: \n",
    "            hm[s[i+pL]] -= 1\n",
    "                \n",
    "    if all(v == 0 for v in hm.values()): \n",
    "           res.append(i+1)\n",
    "                \n",
    "    return res\n",
    "\n",
    "s = \"cbaebabacd\"\n",
    "p = \"abc\"\n",
    "findAnagrams(s,p)"
   ]
  },
  {
   "cell_type": "code",
   "execution_count": 8,
   "id": "a7b075dd-ef50-4bd2-91e3-07edfd57c91c",
   "metadata": {},
   "outputs": [
    {
     "data": {
      "text/plain": [
       "'aaabcbc'"
      ]
     },
     "execution_count": 8,
     "metadata": {},
     "output_type": "execute_result"
    }
   ],
   "source": [
    "7.\n",
    "def decodeString(s):\n",
    "\n",
    "    stack=[]\n",
    "    for c in s:\n",
    "        if c!=']':\n",
    "            stack.append(c)\n",
    "        else:\n",
    "            res=''\n",
    "            while stack[-1]!='[':\n",
    "                res+=stack.pop()\n",
    "            stack.pop()\n",
    "            n=''\n",
    "            while len(stack)!=0 and stack[-1].isdigit()==True:\n",
    "                n+=stack.pop()\n",
    "            stack.append(res*int(n[::-1]))\n",
    "\n",
    "    return ''.join([word[::-1] for word in stack])\n",
    "\n",
    "s = \"3[a]2[bc]\"\n",
    "decodeString(s)"
   ]
  },
  {
   "cell_type": "code",
   "execution_count": 9,
   "id": "0bb0dac7-0fe9-4774-9c7e-21245cbe6a28",
   "metadata": {},
   "outputs": [
    {
     "data": {
      "text/plain": [
       "True"
      ]
     },
     "execution_count": 9,
     "metadata": {},
     "output_type": "execute_result"
    }
   ],
   "source": [
    "8.\n",
    "def buddyStrings(s, goal):\n",
    "    n = len(s)\n",
    "    if s == goal:\n",
    "        temp = set(s)\n",
    "        return len(temp) < len(goal)  # Swapping same characters\n",
    "\n",
    "    i = 0\n",
    "    j = n - 1\n",
    "\n",
    "    while i < j and s[i] == goal[i]:\n",
    "        i += 1\n",
    "\n",
    "    while j >= 0 and s[j] == goal[j]:\n",
    "        j -= 1\n",
    "\n",
    "    if i < j:\n",
    "        s_list = list(s)\n",
    "        s_list[i], s_list[j] = s_list[j], s_list[i]\n",
    "        s = ''.join(s_list)\n",
    "\n",
    "    return s == goal\n",
    "s = \"ab\"\n",
    "goal = \"ba\"\n",
    "buddyStrings(s, goal)"
   ]
  },
  {
   "cell_type": "code",
   "execution_count": null,
   "id": "e450c5e7-d68d-405b-ac58-ddd84431c26e",
   "metadata": {},
   "outputs": [],
   "source": []
  }
 ],
 "metadata": {
  "kernelspec": {
   "display_name": "Python 3 (ipykernel)",
   "language": "python",
   "name": "python3"
  },
  "language_info": {
   "codemirror_mode": {
    "name": "ipython",
    "version": 3
   },
   "file_extension": ".py",
   "mimetype": "text/x-python",
   "name": "python",
   "nbconvert_exporter": "python",
   "pygments_lexer": "ipython3",
   "version": "3.10.8"
  }
 },
 "nbformat": 4,
 "nbformat_minor": 5
}
