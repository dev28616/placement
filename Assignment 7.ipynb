{
 "cells": [
  {
   "cell_type": "code",
   "execution_count": 1,
   "id": "b6b8d310-86f3-4bde-bcd0-711e44908bf8",
   "metadata": {},
   "outputs": [
    {
     "data": {
      "text/plain": [
       "True"
      ]
     },
     "execution_count": 1,
     "metadata": {},
     "output_type": "execute_result"
    }
   ],
   "source": [
    "1.\n",
    "def isIsomorphic(s, t):\n",
    "    map1 = []\n",
    "    map2 = []\n",
    "    for idx in s:\n",
    "        map1.append(s.index(idx))\n",
    "    for idx in t:\n",
    "        map2.append(t.index(idx))\n",
    "    if map1 == map2:\n",
    "        return True\n",
    "    return False\n",
    "\n",
    "s = \"egg\"\n",
    "t = \"add\"\n",
    "isIsomorphic(s, t)"
   ]
  },
  {
   "cell_type": "code",
   "execution_count": 2,
   "id": "a0944715-4792-4d7f-bbca-8c1dc825b3eb",
   "metadata": {},
   "outputs": [
    {
     "data": {
      "text/plain": [
       "True"
      ]
     },
     "execution_count": 2,
     "metadata": {},
     "output_type": "execute_result"
    }
   ],
   "source": [
    "2.\n",
    "def isStrobogrammatic(num):\n",
    "      \n",
    "    maps = {(\"0\", \"0\"), (\"1\", \"1\"), (\"6\", \"9\"), (\"8\", \"8\"), (\"9\", \"6\")}\n",
    "    i,j = 0, len(num) - 1\n",
    "    while i <= j:\n",
    "        if (num[i], num[j]) not in maps:\n",
    "     \t     return False\n",
    "        i += 1\n",
    "        j -= 1\n",
    "    return True\n",
    "num = \"69\"\n",
    "isStrobogrammatic(num)"
   ]
  },
  {
   "cell_type": "code",
   "execution_count": 7,
   "id": "6b79b540-2fab-44e7-beb8-91e61595a38d",
   "metadata": {},
   "outputs": [
    {
     "data": {
      "text/plain": [
       "'134'"
      ]
     },
     "execution_count": 7,
     "metadata": {},
     "output_type": "execute_result"
    }
   ],
   "source": [
    "3.\n",
    "def addStrings(num1, num2):\n",
    "    num1 = num1[::-1]\n",
    "    num2 = num2[::-1]\n",
    "    \n",
    "    if len(num1) < len(num2):\n",
    "        num1 += '0' * (len(num2) - len(num1))\n",
    "    else:\n",
    "        num2 += '0' * (len(num1) - len(num2))\n",
    "    \n",
    "    result = ''\n",
    "    carry = 0\n",
    "    \n",
    "    \n",
    "    for i in range(len(num1)):\n",
    "        \n",
    "        digit_sum = int(num1[i]) + int(num2[i]) + carry\n",
    "        \n",
    "        carry = digit_sum // 10\n",
    "        \n",
    "        result += str(digit_sum % 10)\n",
    "    \n",
    "    \n",
    "    if carry > 0:\n",
    "        result += str(carry)\n",
    "    \n",
    "    \n",
    "    return result[::-1]\n",
    "num1 = \"11\"\n",
    "num2 = \"123\"\n",
    "addStrings(num1, num2)"
   ]
  },
  {
   "cell_type": "code",
   "execution_count": 8,
   "id": "9bc89d50-4466-4a6c-a17a-8e138b060d5f",
   "metadata": {},
   "outputs": [
    {
     "data": {
      "text/plain": [
       "\"s'teL ekat edoCteeL tsetnoc\""
      ]
     },
     "execution_count": 8,
     "metadata": {},
     "output_type": "execute_result"
    }
   ],
   "source": [
    "4.\n",
    "def reverseWords(s):\n",
    "    return ' '.join([i[::-1] for i in s.split(' ')])\n",
    "\n",
    "s = \"Let's take LeetCode contest\"\n",
    "reverseWords(s)"
   ]
  },
  {
   "cell_type": "code",
   "execution_count": 9,
   "id": "7d24cb95-3764-42e9-a5eb-0de1eca4c604",
   "metadata": {},
   "outputs": [
    {
     "data": {
      "text/plain": [
       "'bacdfeg'"
      ]
     },
     "execution_count": 9,
     "metadata": {},
     "output_type": "execute_result"
    }
   ],
   "source": [
    "5.\n",
    "def reverseStr(s, k):\n",
    "    tab=[]\n",
    "    for i in range(len(s)):\n",
    "        if (i//k)%2==0:\n",
    "            tab.insert(i-i%k,s[i])\n",
    "        else:\n",
    "            tab.append(s[i])\n",
    "    res=\"\"\n",
    "    for t in tab:\n",
    "        res+=t\n",
    "    return res\n",
    "\n",
    "s = \"abcdefg\"\n",
    "k = 2\n",
    "reverseStr(s, k)"
   ]
  },
  {
   "cell_type": "code",
   "execution_count": 10,
   "id": "baf6fe58-32d0-474c-8b5e-1b2ebdad673d",
   "metadata": {},
   "outputs": [
    {
     "data": {
      "text/plain": [
       "True"
      ]
     },
     "execution_count": 10,
     "metadata": {},
     "output_type": "execute_result"
    }
   ],
   "source": [
    "6.\n",
    "def rotateString(s, goal):\n",
    "    for i in range(len(s)):\n",
    "        if s[i] == goal[0]:\n",
    "            if s[i:] + s[:i] == goal:\n",
    "                return True\n",
    "        \n",
    "    return False\n",
    "\n",
    "s = \"abcde\"\n",
    "goal = \"cdeab\"\n",
    "rotateString(s, goal)"
   ]
  },
  {
   "cell_type": "code",
   "execution_count": 11,
   "id": "3ce5d27a-e55b-4ac5-88ce-a888f6d8b950",
   "metadata": {},
   "outputs": [
    {
     "data": {
      "text/plain": [
       "True"
      ]
     },
     "execution_count": 11,
     "metadata": {},
     "output_type": "execute_result"
    }
   ],
   "source": [
    "7.\n",
    "def backspaceCompare(s,t):\n",
    "    s_backspaced = []\n",
    "    t_backspaced = []\n",
    "       \n",
    "    for i in range(len(s)):\n",
    "        if s[i] == '#':\n",
    "            if s_backspaced:\n",
    "                s_backspaced.pop()\n",
    "        else:\n",
    "            s_backspaced.append(s[i])\n",
    "         \n",
    "    for i in range(len(t)):\n",
    "        if t[i] == '#':\n",
    "            if t_backspaced:\n",
    "                t_backspaced.pop()\n",
    "        else:\n",
    "            t_backspaced.append(t[i])\n",
    "    \n",
    "    return s_backspaced == t_backspaced\n",
    "\n",
    "s = \"ab#c\"\n",
    "t = \"ad#c\"\n",
    "\n",
    "backspaceCompare(s, t)"
   ]
  },
  {
   "cell_type": "code",
   "execution_count": 12,
   "id": "77a2e03b-e293-449b-b117-5ba57d23beef",
   "metadata": {},
   "outputs": [
    {
     "data": {
      "text/plain": [
       "True"
      ]
     },
     "execution_count": 12,
     "metadata": {},
     "output_type": "execute_result"
    }
   ],
   "source": [
    "8.\n",
    "def checkStraightLine(c):\n",
    "    x0,y0=c[0][0],c[0][1]\n",
    "    x1,y1=c[1][0],c[1][1]\n",
    "    for i in range(2, len(c)):\n",
    "        x,y=c[i][0],c[i][1]\n",
    "        if(x-x0)*(y1-y0)!=(y-y0)*(x1-x0):\n",
    "            return False\n",
    "    return True\n",
    "\n",
    "coordinates = [[1,2],[2,3],[3,4],[4,5],[5,6],[6,7]]\n",
    "checkStraightLine(coordinates)"
   ]
  },
  {
   "cell_type": "code",
   "execution_count": null,
   "id": "3d6da301-8f65-4191-a988-e30e0d04fa49",
   "metadata": {},
   "outputs": [],
   "source": []
  }
 ],
 "metadata": {
  "kernelspec": {
   "display_name": "Python 3 (ipykernel)",
   "language": "python",
   "name": "python3"
  },
  "language_info": {
   "codemirror_mode": {
    "name": "ipython",
    "version": 3
   },
   "file_extension": ".py",
   "mimetype": "text/x-python",
   "name": "python",
   "nbconvert_exporter": "python",
   "pygments_lexer": "ipython3",
   "version": "3.10.8"
  }
 },
 "nbformat": 4,
 "nbformat_minor": 5
}
